{
 "cells": [
  {
   "cell_type": "markdown",
   "metadata": {},
   "source": [
    "# Programming for Data Analysis Project 2020"
   ]
  },
  {
   "cell_type": "markdown",
   "metadata": {},
   "source": [
    "## Problem Statement\n",
    "\n",
    "- Choose a real-world phenomenon that can be measured and for which you could\n",
    "collect at least one-hundred data points across at least four different variables.\n",
    "\n",
    "- Investigate the types of variables involved, their likely distributions, and their relationships with each other.\n",
    "\n",
    "- Synthesise/simulate a data set as closely matching their properties as possible.\n",
    "\n",
    "- Detail your research and implement the simulation in a Jupyter notebook – the\n",
    "data set itself can simply be displayed in an output cell within the notebook.\n",
    "\n",
    "\n",
    "### Project Outline\n",
    "\n",
    "Subject Matter - Road Collisions for a given year. For this project we will use 2018. To create a dataset, intial variables are:\n",
    "1. Collision type\n",
    "2. Month\n",
    "3. Day\n",
    "4. Date\n",
    "5. Month\n",
    "6. Time Band\n",
    "7. Sex\n",
    "8. Age\n",
    "9. Road User.\n",
    "10. County (maybe)\n",
    "\n",
    "In 2018 there was 8150 fatal and serious casulaties so this will be our sample size for the intial dataset. Once this is complete another summary dataset can be created summarised by date. In this table we may add, Speeding fines, traffic volumes - km driven for further analyitical purposes.\n",
    "\n",
    "### Project Plan\n",
    "\n",
    "#### 1. Gathering research data\n",
    "* Gather data from CSO datasets and RSA datsets for collisions by:\n",
    "  - Month\n",
    "  - Day\n",
    "  - Time Band\n",
    "  - Road User (cover Sex and Age)\n",
    "\n",
    "* Traffic data from the annual Transport Omnibus \n",
    "\n",
    "* Fixed Charged Notices from Garda.ie for\n",
    "  - Speeding\n",
    "  - Intoxication\n",
    "  - Mobile Phones\n",
    "  \n",
    "Initial formatting of csv files in order to create Pandas dataframes\n",
    "\n",
    "#### 2. EDA (Research) of these datasets\n",
    "* To understand required distributions, averages etc. to create out dataset\n",
    "  - 5 years of data for percentage breakdowns, averages and weighted averages not for overall figures.\n",
    "\n",
    "#### 3. Variables and Functions\n",
    "* Create relevant variables and functions to be used for simulated dataset\n",
    "  - p values\n",
    "  - weighted averages\n",
    "  - lists\n",
    "  - dictionaries\n",
    "  \n",
    "#### 4. Create intial dataset\n",
    "* creation of categorical based dataset that summary will be based on.\n",
    "  - Create dates based on monthly and daily p values and distribution\n",
    "  - dates will automatically created day and month\n",
    "  - Monthly collisions by type (conditional binomial by month depending on EDA)\n",
    "  - Time band - might be by month depending on initial EDA\n",
    "  - Road User - might be by month depending on initial EDA\n",
    "  - Sex (conditional binomial by month depending on EDA)\n",
    "\n",
    "#### 5. Summary datset\n",
    "* summarise intial dataset by data\n",
    "* add in traffic and fcns\n",
    "\n",
    "#### 6. EDA of the summary Dataset.\n",
    "* summarise by each variable\n",
    "* pairplot for collisons, fcns, traffic\n",
    "\n",
    "\n",
    "\n"
   ]
  },
  {
   "cell_type": "markdown",
   "metadata": {},
   "source": [
    "### Python Libaries"
   ]
  },
  {
   "cell_type": "code",
   "execution_count": 3,
   "metadata": {},
   "outputs": [],
   "source": [
    "import numpy as np\n",
    "import pandas as pd\n",
    "import seaborn as sns\n",
    "import matplotlib.pyplot as plt\n",
    "import datetime\n",
    "\n",
    "rng = np.random.default_rng"
   ]
  },
  {
   "cell_type": "markdown",
   "metadata": {},
   "source": [
    "## Road Collisions on Irish Roads\n",
    "\n"
   ]
  },
  {
   "cell_type": "code",
   "execution_count": null,
   "metadata": {},
   "outputs": [],
   "source": []
  }
 ],
 "metadata": {
  "kernelspec": {
   "display_name": "Python 3",
   "language": "python",
   "name": "python3"
  },
  "language_info": {
   "codemirror_mode": {
    "name": "ipython",
    "version": 3
   },
   "file_extension": ".py",
   "mimetype": "text/x-python",
   "name": "python",
   "nbconvert_exporter": "python",
   "pygments_lexer": "ipython3",
   "version": "3.8.3"
  }
 },
 "nbformat": 4,
 "nbformat_minor": 4
}
